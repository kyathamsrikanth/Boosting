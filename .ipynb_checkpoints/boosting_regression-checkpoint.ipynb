{
 "cells": [
  {
   "cell_type": "code",
   "execution_count": 2,
   "metadata": {},
   "outputs": [],
   "source": [
    "%matplotlib inline\n",
    "import numpy as np\n",
    "import scipy as sp\n",
    "import matplotlib as mpl\n",
    "import matplotlib.cm as cm\n",
    "import matplotlib.pyplot as plt\n",
    "import pandas as pd\n",
    "pd.set_option('display.width', 500)\n",
    "pd.set_option('display.max_columns', 100)\n",
    "pd.set_option('display.notebook_repr_html', True)\n",
    "import seaborn.apionly as sns\n",
    "sns.set_style(\"whitegrid\")\n",
    "sns.set_context(\"poster\")\n"
   ]
  },
  {
   "cell_type": "code",
   "execution_count": 3,
   "metadata": {},
   "outputs": [
    {
     "data": {
      "text/html": [
       "<div>\n",
       "<style scoped>\n",
       "    .dataframe tbody tr th:only-of-type {\n",
       "        vertical-align: middle;\n",
       "    }\n",
       "\n",
       "    .dataframe tbody tr th {\n",
       "        vertical-align: top;\n",
       "    }\n",
       "\n",
       "    .dataframe thead th {\n",
       "        text-align: right;\n",
       "    }\n",
       "</style>\n",
       "<table border=\"1\" class=\"dataframe\">\n",
       "  <thead>\n",
       "    <tr style=\"text-align: right;\">\n",
       "      <th></th>\n",
       "      <th>state</th>\n",
       "      <th>fipscode</th>\n",
       "      <th>county</th>\n",
       "      <th>population</th>\n",
       "      <th>hispanic</th>\n",
       "      <th>minority</th>\n",
       "      <th>female</th>\n",
       "      <th>unemployed</th>\n",
       "      <th>income</th>\n",
       "      <th>nodegree</th>\n",
       "      <th>bachelor</th>\n",
       "      <th>inactivity</th>\n",
       "      <th>obesity</th>\n",
       "      <th>density</th>\n",
       "      <th>cancer</th>\n",
       "      <th>votergap</th>\n",
       "      <th>trump</th>\n",
       "      <th>clinton</th>\n",
       "    </tr>\n",
       "  </thead>\n",
       "  <tbody>\n",
       "    <tr>\n",
       "      <th>0</th>\n",
       "      <td>Colorado</td>\n",
       "      <td>8117</td>\n",
       "      <td>Summit County</td>\n",
       "      <td>27239</td>\n",
       "      <td>15.173</td>\n",
       "      <td>4.918</td>\n",
       "      <td>45.996</td>\n",
       "      <td>2.5</td>\n",
       "      <td>68352</td>\n",
       "      <td>5.4</td>\n",
       "      <td>48.1</td>\n",
       "      <td>8.1</td>\n",
       "      <td>13.1</td>\n",
       "      <td>46.0</td>\n",
       "      <td>46.2</td>\n",
       "      <td>-27.632</td>\n",
       "      <td>31.530</td>\n",
       "      <td>59.162</td>\n",
       "    </tr>\n",
       "    <tr>\n",
       "      <th>1</th>\n",
       "      <td>Colorado</td>\n",
       "      <td>8037</td>\n",
       "      <td>Eagle County</td>\n",
       "      <td>53653</td>\n",
       "      <td>30.040</td>\n",
       "      <td>5.169</td>\n",
       "      <td>47.231</td>\n",
       "      <td>3.1</td>\n",
       "      <td>76661</td>\n",
       "      <td>10.1</td>\n",
       "      <td>47.3</td>\n",
       "      <td>9.4</td>\n",
       "      <td>11.8</td>\n",
       "      <td>31.0</td>\n",
       "      <td>47.1</td>\n",
       "      <td>-19.897</td>\n",
       "      <td>36.058</td>\n",
       "      <td>55.955</td>\n",
       "    </tr>\n",
       "    <tr>\n",
       "      <th>2</th>\n",
       "      <td>Idaho</td>\n",
       "      <td>16067</td>\n",
       "      <td>Minidoka County</td>\n",
       "      <td>19226</td>\n",
       "      <td>34.070</td>\n",
       "      <td>5.611</td>\n",
       "      <td>49.318</td>\n",
       "      <td>3.7</td>\n",
       "      <td>46332</td>\n",
       "      <td>24.1</td>\n",
       "      <td>11.8</td>\n",
       "      <td>18.3</td>\n",
       "      <td>34.2</td>\n",
       "      <td>80.0</td>\n",
       "      <td>61.8</td>\n",
       "      <td>54.148</td>\n",
       "      <td>71.135</td>\n",
       "      <td>16.987</td>\n",
       "    </tr>\n",
       "    <tr>\n",
       "      <th>3</th>\n",
       "      <td>Colorado</td>\n",
       "      <td>8113</td>\n",
       "      <td>San Miguel County</td>\n",
       "      <td>7558</td>\n",
       "      <td>10.154</td>\n",
       "      <td>4.747</td>\n",
       "      <td>46.808</td>\n",
       "      <td>3.7</td>\n",
       "      <td>59603</td>\n",
       "      <td>4.7</td>\n",
       "      <td>54.4</td>\n",
       "      <td>12.4</td>\n",
       "      <td>16.7</td>\n",
       "      <td>5.7</td>\n",
       "      <td>62.6</td>\n",
       "      <td>-44.769</td>\n",
       "      <td>23.892</td>\n",
       "      <td>68.662</td>\n",
       "    </tr>\n",
       "    <tr>\n",
       "      <th>4</th>\n",
       "      <td>Utah</td>\n",
       "      <td>49051</td>\n",
       "      <td>Wasatch County</td>\n",
       "      <td>21600</td>\n",
       "      <td>13.244</td>\n",
       "      <td>4.125</td>\n",
       "      <td>48.812</td>\n",
       "      <td>3.4</td>\n",
       "      <td>65207</td>\n",
       "      <td>9.5</td>\n",
       "      <td>34.4</td>\n",
       "      <td>13.9</td>\n",
       "      <td>23.0</td>\n",
       "      <td>257.8</td>\n",
       "      <td>68.3</td>\n",
       "      <td>25.357</td>\n",
       "      <td>50.471</td>\n",
       "      <td>25.114</td>\n",
       "    </tr>\n",
       "  </tbody>\n",
       "</table>\n",
       "</div>"
      ],
      "text/plain": [
       "      state  fipscode             county  population  hispanic  minority  female  unemployed  income  nodegree  bachelor  inactivity  obesity  density  cancer  votergap   trump  clinton\n",
       "0  Colorado      8117      Summit County       27239    15.173     4.918  45.996         2.5   68352       5.4      48.1         8.1     13.1     46.0    46.2   -27.632  31.530   59.162\n",
       "1  Colorado      8037       Eagle County       53653    30.040     5.169  47.231         3.1   76661      10.1      47.3         9.4     11.8     31.0    47.1   -19.897  36.058   55.955\n",
       "2     Idaho     16067    Minidoka County       19226    34.070     5.611  49.318         3.7   46332      24.1      11.8        18.3     34.2     80.0    61.8    54.148  71.135   16.987\n",
       "3  Colorado      8113  San Miguel County        7558    10.154     4.747  46.808         3.7   59603       4.7      54.4        12.4     16.7      5.7    62.6   -44.769  23.892   68.662\n",
       "4      Utah     49051     Wasatch County       21600    13.244     4.125  48.812         3.4   65207       9.5      34.4        13.9     23.0    257.8    68.3    25.357  50.471   25.114"
      ]
     },
     "execution_count": 3,
     "metadata": {},
     "output_type": "execute_result"
    }
   ],
   "source": [
    "elect_df = pd.read_csv(\"data/county_level_election.csv\")\n",
    "elect_df.head()"
   ]
  },
  {
   "cell_type": "code",
   "execution_count": 4,
   "metadata": {},
   "outputs": [],
   "source": [
    "from sklearn.model_selection import train_test_split"
   ]
  },
  {
   "cell_type": "code",
   "execution_count": 5,
   "metadata": {},
   "outputs": [],
   "source": [
    "# split 80/20 train-test\n",
    "X = elect_df[['population','hispanic','minority','female','unemployed','income','nodegree','bachelor','inactivity','obesity','density','cancer']]\n",
    "response = elect_df['votergap']\n",
    "Xtraindf, Xtestdf, ytrain, ytest = train_test_split(X,response,test_size=0.2, random_state=1983)\n"
   ]
  },
  {
   "cell_type": "code",
   "execution_count": 6,
   "metadata": {},
   "outputs": [
    {
     "data": {
      "image/png": "[encoded data removed]",
      "text/plain": [
       "<Figure size 432x288 with 1 Axes>"
      ]
     },
     "metadata": {},
     "output_type": "display_data"
    },
    {
     "data": {
      "image/png": "[encoded data removed]",
      "text/plain": [
       "<Figure size 432x288 with 4 Axes>"
      ]
     },
     "metadata": {},
     "output_type": "display_data"
    }
   ],
   "source": [
    "plt.hist(ytrain)\n",
    "Xtraindf.hist(column=['minority', 'population','hispanic','female']);"
   ]
  },
  {
   "cell_type": "code",
   "execution_count": 7,
   "metadata": {},
   "outputs": [
    {
     "data": {
      "image/png": "[encoded data removed]",
      "text/plain": [
       "<Figure size 432x288 with 1 Axes>"
      ]
     },
     "metadata": {},
     "output_type": "display_data"
    }
   ],
   "source": [
    "x = Xtraindf['minority'].values\n",
    "o = np.argsort(x)\n",
    "x = x[o]\n",
    "y = ytrain.values\n",
    "y = y[o]\n",
    "plt.plot(np.log(x),y,'.')\n",
    "xx = np.log(x).reshape(-1,1)"
   ]
  },
  {
   "cell_type": "code",
   "execution_count": 8,
   "metadata": {},
   "outputs": [],
   "source": [
    "from sklearn.tree import DecisionTreeRegressor\n",
    "from sklearn.ensemble import AdaBoostRegressor\n"
   ]
  },
  {
   "cell_type": "code",
   "execution_count": 92,
   "metadata": {},
   "outputs": [
    {
     "data": {
      "text/plain": [
       "array([0.7758255])"
      ]
     },
     "execution_count": 92,
     "metadata": {},
     "output_type": "execute_result"
    }
   ],
   "source": [
    "from collections import OrderedDict\n",
    "from sklearn.model_selection import GridSearchCV\n",
    "\n",
    "param_dict3 = OrderedDict(\n",
    "    base_estimator__max_depth = [12],\n",
    "    learning_rate = [2]\n",
    "    \n",
    ")\n",
    "\n",
    "# your code here\n",
    "\n",
    "best_scores = []\n",
    "\n",
    "\n",
    "estab = AdaBoostRegressor(base_estimator=\n",
    "                              DecisionTreeRegressor(max_depth=param_dict3[\"base_estimator__max_depth\"]),n_estimators=2000,\\\n",
    "                              learning_rate=param_dict3[\"learning_rate\"])\n",
    "gs = GridSearchCV(estab, param_grid = param_dict3, cv=3, n_jobs=-1)\n",
    "gs.fit(Xtraindf, ytrain)\n",
    "best_scores = np.append(best_scores, gs.best_score_)\n",
    "best_scores\n"
   ]
  },
  {
   "cell_type": "code",
   "execution_count": 93,
   "metadata": {},
   "outputs": [
    {
     "data": {
      "text/plain": [
       "0.7683801423628139"
      ]
     },
     "execution_count": 93,
     "metadata": {},
     "output_type": "execute_result"
    }
   ],
   "source": [
    "gs.score(Xtestdf,ytest)"
   ]
  },
  {
   "cell_type": "code",
   "execution_count": null,
   "metadata": {},
   "outputs": [],
   "source": []
  }
 ],
 "metadata": {
  "kernelspec": {
   "display_name": "Python 3",
   "language": "python",
   "name": "python3"
  },
  "language_info": {
   "codemirror_mode": {
    "name": "ipython",
    "version": 3
   },
   "file_extension": ".py",
   "mimetype": "text/x-python",
   "name": "python",
   "nbconvert_exporter": "python",
   "pygments_lexer": "ipython3",
   "version": "3.7.3"
  }
 },
 "nbformat": 4,
 "nbformat_minor": 2
}
